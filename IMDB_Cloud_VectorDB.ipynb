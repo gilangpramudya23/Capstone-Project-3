{
  "nbformat": 4,
  "nbformat_minor": 0,
  "metadata": {
    "colab": {
      "provenance": []
    },
    "kernelspec": {
      "name": "python3",
      "display_name": "Python 3"
    },
    "language_info": {
      "name": "python"
    }
  },
  "cells": [
    {
      "cell_type": "markdown",
      "source": [
        "# Import and Install Library"
      ],
      "metadata": {
        "id": "qSoT5R8noDqj"
      }
    },
    {
      "cell_type": "code",
      "source": [
        "from google.colab import drive\n",
        "drive.mount('/content/drive')"
      ],
      "metadata": {
        "colab": {
          "base_uri": "https://localhost:8080/"
        },
        "id": "bC474mBi_N6V",
        "outputId": "c1e5fb0b-e586-4fdb-b01d-c10f7d10b239"
      },
      "execution_count": null,
      "outputs": [
        {
          "output_type": "stream",
          "name": "stdout",
          "text": [
            "Mounted at /content/drive\n"
          ]
        }
      ]
    },
    {
      "cell_type": "code",
      "execution_count": 1,
      "metadata": {
        "id": "-MsDfuCrqoV5",
        "colab": {
          "base_uri": "https://localhost:8080/"
        },
        "outputId": "f8f5bbd5-9fea-450e-82b9-196571ef69d4"
      },
      "outputs": [
        {
          "output_type": "stream",
          "name": "stdout",
          "text": [
            "\u001b[?25l   \u001b[90m━━━━━━━━━━━━━━━━━━━━━━━━━━━━━━━━━━━━━━━━\u001b[0m \u001b[32m0.0/337.3 kB\u001b[0m \u001b[31m?\u001b[0m eta \u001b[36m-:--:--\u001b[0m\r\u001b[2K   \u001b[90m━━━━━━━━━━━━━━━━━━━━━━━━━━━━━━━━━━━━━━━━\u001b[0m \u001b[32m337.3/337.3 kB\u001b[0m \u001b[31m19.7 MB/s\u001b[0m eta \u001b[36m0:00:00\u001b[0m\n",
            "\u001b[?25h\u001b[?25l   \u001b[90m━━━━━━━━━━━━━━━━━━━━━━━━━━━━━━━━━━━━━━━━\u001b[0m \u001b[32m0.0/81.9 kB\u001b[0m \u001b[31m?\u001b[0m eta \u001b[36m-:--:--\u001b[0m\r\u001b[2K   \u001b[90m━━━━━━━━━━━━━━━━━━━━━━━━━━━━━━━━━━━━━━━━\u001b[0m \u001b[32m81.9/81.9 kB\u001b[0m \u001b[31m7.1 MB/s\u001b[0m eta \u001b[36m0:00:00\u001b[0m\n",
            "\u001b[?25h\u001b[?25l   \u001b[90m━━━━━━━━━━━━━━━━━━━━━━━━━━━━━━━━━━━━━━━━\u001b[0m \u001b[32m0.0/467.1 kB\u001b[0m \u001b[31m?\u001b[0m eta \u001b[36m-:--:--\u001b[0m\r\u001b[2K   \u001b[90m━━━━━━━━━━━━━━━━━━━━━━━━━━━━━━━━━━━━━━━━\u001b[0m \u001b[32m467.1/467.1 kB\u001b[0m \u001b[31m30.9 MB/s\u001b[0m eta \u001b[36m0:00:00\u001b[0m\n",
            "\u001b[?25h\u001b[31mERROR: pip's dependency resolver does not currently take into account all the packages that are installed. This behaviour is the source of the following dependency conflicts.\n",
            "langchain 0.3.27 requires langchain-core<1.0.0,>=0.3.72, but you have langchain-core 1.0.1 which is incompatible.\u001b[0m\u001b[31m\n",
            "\u001b[0m"
          ]
        }
      ],
      "source": [
        "#download and install langchain dependencies\n",
        "!pip install -qU qdrant-client langchain-openai langchain-qdrant"
      ]
    },
    {
      "cell_type": "code",
      "source": [
        "# importing all libraries needed\n",
        "import pandas as pd #for data processing\n",
        "import getpass, os #for input password interface\n",
        "\n",
        "from langchain_openai import OpenAIEmbeddings, ChatOpenAI #for embedding and LLM service\n",
        "from uuid import uuid4 #for generate id with uuid format\n",
        "\n",
        "from langchain_core.documents import Document #for document format that stored to vector database collection\n",
        "from langchain_qdrant import QdrantVectorStore #for langchain - qdrant vector database connector\n",
        "from qdrant_client import QdrantClient #for qdrant client set up\n",
        "from qdrant_client.http.models import Distance, VectorParams #for distance method and configuration of vector parameters"
      ],
      "metadata": {
        "id": "Ka4P3VkFzW_N"
      },
      "execution_count": 2,
      "outputs": []
    },
    {
      "cell_type": "markdown",
      "source": [
        "# Setup Environment API_KEY"
      ],
      "metadata": {
        "id": "qPpX3DH1oKRm"
      }
    },
    {
      "cell_type": "code",
      "source": [
        "#input openai api key\n",
        "from google.colab import userdata\n",
        "\n",
        "if userdata.get('OPENAI_KEY'):\n",
        "  os.environ[\"OPENAI_API_KEY\"] = userdata.get('OPENAI_KEY')\n",
        "else:\n",
        "  os.environ[\"OPENAI_API_KEY\"] = getpass.getpass(\"OPENAI_KEY\")\n",
        "\n",
        "print('OPENAI_API_KEY telah diinput')"
      ],
      "metadata": {
        "colab": {
          "base_uri": "https://localhost:8080/"
        },
        "id": "LGgZpq892o31",
        "outputId": "2399a658-ec1e-491b-cc2a-95c20c8d69b2"
      },
      "execution_count": 3,
      "outputs": [
        {
          "output_type": "stream",
          "name": "stdout",
          "text": [
            "OPENAI_API_KEY telah diinput\n"
          ]
        }
      ]
    },
    {
      "cell_type": "code",
      "source": [
        "#input qdrant api key\n",
        "if userdata.get('QDRANT_KEY'):\n",
        "  api_key_qdrant = userdata.get('QDRANT_KEY')\n",
        "else:\n",
        "  api_key_qdrant = getpass.getpass(\"QDRANT_KEY\")\n",
        "\n",
        "print('QDRANT_API_KEY telah diinput')"
      ],
      "metadata": {
        "colab": {
          "base_uri": "https://localhost:8080/"
        },
        "id": "Pa2l8Zef2ptG",
        "outputId": "a6d1d861-626b-4f6b-d37f-f237a448952a"
      },
      "execution_count": 4,
      "outputs": [
        {
          "output_type": "stream",
          "name": "stdout",
          "text": [
            "QDRANT_API_KEY telah diinput\n"
          ]
        }
      ]
    },
    {
      "cell_type": "code",
      "source": [
        "#input qdrant api key\n",
        "if userdata.get('QDRANT_URL'):\n",
        "  url_qdrant = userdata.get('QDRANT_URL')\n",
        "else:\n",
        "  url_qdrant = getpass.getpass(\"Input URL QDRANT CLOUD\")\n",
        "\n",
        "print('QDRANT_URL telah diinput')"
      ],
      "metadata": {
        "colab": {
          "base_uri": "https://localhost:8080/"
        },
        "id": "0-KGotKg-qrI",
        "outputId": "f9128d86-90e8-47b8-a6ae-13f004230798"
      },
      "execution_count": 5,
      "outputs": [
        {
          "output_type": "stream",
          "name": "stdout",
          "text": [
            "QDRANT_URL telah diinput\n"
          ]
        }
      ]
    },
    {
      "cell_type": "code",
      "source": [
        "url_qdrant"
      ],
      "metadata": {
        "colab": {
          "base_uri": "https://localhost:8080/",
          "height": 36
        },
        "id": "E9xA6PfWAt8y",
        "outputId": "454c01e4-a650-42f6-c056-69e4890d4bdf"
      },
      "execution_count": 6,
      "outputs": [
        {
          "output_type": "execute_result",
          "data": {
            "text/plain": [
              "'https://56199c0a-342b-4a06-8483-e5857786ab3b.us-east4-0.gcp.cloud.qdrant.io'"
            ],
            "application/vnd.google.colaboratory.intrinsic+json": {
              "type": "string"
            }
          },
          "metadata": {},
          "execution_count": 6
        }
      ]
    },
    {
      "cell_type": "markdown",
      "source": [
        "# Define LLM and Processing Dataset"
      ],
      "metadata": {
        "id": "s4ag6dH2oRlh"
      }
    },
    {
      "cell_type": "code",
      "source": [
        "#define embedding model\n",
        "embeddings = OpenAIEmbeddings(model=\"text-embedding-3-small\")\n",
        "\n",
        "#define llm model\n",
        "llm = ChatOpenAI(\n",
        "    model=\"gpt-4o-mini\",\n",
        "    temperature=0,\n",
        ")"
      ],
      "metadata": {
        "id": "bT6EqJoP1Vq2"
      },
      "execution_count": 7,
      "outputs": []
    },
    {
      "cell_type": "code",
      "source": [
        "#define directory path of dataset\n",
        "data_path = \"/content/imdb_top_1000.csv\""
      ],
      "metadata": {
        "id": "DSw8ChBTzjww"
      },
      "execution_count": 10,
      "outputs": []
    },
    {
      "cell_type": "code",
      "source": [
        "#read dataset with pandas\n",
        "df = pd.read_csv(data_path)\n",
        "print(df.shape) #show total row and column with format (row, column)\n",
        "df.head() #show first 5 record of dataset"
      ],
      "metadata": {
        "colab": {
          "base_uri": "https://localhost:8080/",
          "height": 696
        },
        "id": "svCj2g771QHk",
        "outputId": "16a9d007-2714-40c0-f7f1-7ed7f4d31b61"
      },
      "execution_count": 11,
      "outputs": [
        {
          "output_type": "stream",
          "name": "stdout",
          "text": [
            "(1000, 16)\n"
          ]
        },
        {
          "output_type": "execute_result",
          "data": {
            "text/plain": [
              "                                         Poster_Link  \\\n",
              "0  https://m.media-amazon.com/images/M/MV5BMDFkYT...   \n",
              "1  https://m.media-amazon.com/images/M/MV5BM2MyNj...   \n",
              "2  https://m.media-amazon.com/images/M/MV5BMTMxNT...   \n",
              "3  https://m.media-amazon.com/images/M/MV5BMWMwMG...   \n",
              "4  https://m.media-amazon.com/images/M/MV5BMWU4N2...   \n",
              "\n",
              "               Series_Title Released_Year Certificate  Runtime  \\\n",
              "0  The Shawshank Redemption          1994           A  142 min   \n",
              "1             The Godfather          1972           A  175 min   \n",
              "2           The Dark Knight          2008          UA  152 min   \n",
              "3    The Godfather: Part II          1974           A  202 min   \n",
              "4              12 Angry Men          1957           U   96 min   \n",
              "\n",
              "                  Genre  IMDB_Rating  \\\n",
              "0                 Drama          9.3   \n",
              "1          Crime, Drama          9.2   \n",
              "2  Action, Crime, Drama          9.0   \n",
              "3          Crime, Drama          9.0   \n",
              "4          Crime, Drama          9.0   \n",
              "\n",
              "                                            Overview  Meta_score  \\\n",
              "0  Two imprisoned men bond over a number of years...        80.0   \n",
              "1  An organized crime dynasty's aging patriarch t...       100.0   \n",
              "2  When the menace known as the Joker wreaks havo...        84.0   \n",
              "3  The early life and career of Vito Corleone in ...        90.0   \n",
              "4  A jury holdout attempts to prevent a miscarria...        96.0   \n",
              "\n",
              "               Director           Star1           Star2          Star3  \\\n",
              "0        Frank Darabont     Tim Robbins  Morgan Freeman     Bob Gunton   \n",
              "1  Francis Ford Coppola   Marlon Brando       Al Pacino     James Caan   \n",
              "2     Christopher Nolan  Christian Bale    Heath Ledger  Aaron Eckhart   \n",
              "3  Francis Ford Coppola       Al Pacino  Robert De Niro  Robert Duvall   \n",
              "4          Sidney Lumet     Henry Fonda     Lee J. Cobb  Martin Balsam   \n",
              "\n",
              "            Star4  No_of_Votes        Gross  \n",
              "0  William Sadler      2343110   28,341,469  \n",
              "1    Diane Keaton      1620367  134,966,411  \n",
              "2   Michael Caine      2303232  534,858,444  \n",
              "3    Diane Keaton      1129952   57,300,000  \n",
              "4    John Fiedler       689845    4,360,000  "
            ],
            "text/html": [
              "\n",
              "  <div id=\"df-c6e17f19-dd6f-40a0-9cf4-18b21eecff18\" class=\"colab-df-container\">\n",
              "    <div>\n",
              "<style scoped>\n",
              "    .dataframe tbody tr th:only-of-type {\n",
              "        vertical-align: middle;\n",
              "    }\n",
              "\n",
              "    .dataframe tbody tr th {\n",
              "        vertical-align: top;\n",
              "    }\n",
              "\n",
              "    .dataframe thead th {\n",
              "        text-align: right;\n",
              "    }\n",
              "</style>\n",
              "<table border=\"1\" class=\"dataframe\">\n",
              "  <thead>\n",
              "    <tr style=\"text-align: right;\">\n",
              "      <th></th>\n",
              "      <th>Poster_Link</th>\n",
              "      <th>Series_Title</th>\n",
              "      <th>Released_Year</th>\n",
              "      <th>Certificate</th>\n",
              "      <th>Runtime</th>\n",
              "      <th>Genre</th>\n",
              "      <th>IMDB_Rating</th>\n",
              "      <th>Overview</th>\n",
              "      <th>Meta_score</th>\n",
              "      <th>Director</th>\n",
              "      <th>Star1</th>\n",
              "      <th>Star2</th>\n",
              "      <th>Star3</th>\n",
              "      <th>Star4</th>\n",
              "      <th>No_of_Votes</th>\n",
              "      <th>Gross</th>\n",
              "    </tr>\n",
              "  </thead>\n",
              "  <tbody>\n",
              "    <tr>\n",
              "      <th>0</th>\n",
              "      <td>https://m.media-amazon.com/images/M/MV5BMDFkYT...</td>\n",
              "      <td>The Shawshank Redemption</td>\n",
              "      <td>1994</td>\n",
              "      <td>A</td>\n",
              "      <td>142 min</td>\n",
              "      <td>Drama</td>\n",
              "      <td>9.3</td>\n",
              "      <td>Two imprisoned men bond over a number of years...</td>\n",
              "      <td>80.0</td>\n",
              "      <td>Frank Darabont</td>\n",
              "      <td>Tim Robbins</td>\n",
              "      <td>Morgan Freeman</td>\n",
              "      <td>Bob Gunton</td>\n",
              "      <td>William Sadler</td>\n",
              "      <td>2343110</td>\n",
              "      <td>28,341,469</td>\n",
              "    </tr>\n",
              "    <tr>\n",
              "      <th>1</th>\n",
              "      <td>https://m.media-amazon.com/images/M/MV5BM2MyNj...</td>\n",
              "      <td>The Godfather</td>\n",
              "      <td>1972</td>\n",
              "      <td>A</td>\n",
              "      <td>175 min</td>\n",
              "      <td>Crime, Drama</td>\n",
              "      <td>9.2</td>\n",
              "      <td>An organized crime dynasty's aging patriarch t...</td>\n",
              "      <td>100.0</td>\n",
              "      <td>Francis Ford Coppola</td>\n",
              "      <td>Marlon Brando</td>\n",
              "      <td>Al Pacino</td>\n",
              "      <td>James Caan</td>\n",
              "      <td>Diane Keaton</td>\n",
              "      <td>1620367</td>\n",
              "      <td>134,966,411</td>\n",
              "    </tr>\n",
              "    <tr>\n",
              "      <th>2</th>\n",
              "      <td>https://m.media-amazon.com/images/M/MV5BMTMxNT...</td>\n",
              "      <td>The Dark Knight</td>\n",
              "      <td>2008</td>\n",
              "      <td>UA</td>\n",
              "      <td>152 min</td>\n",
              "      <td>Action, Crime, Drama</td>\n",
              "      <td>9.0</td>\n",
              "      <td>When the menace known as the Joker wreaks havo...</td>\n",
              "      <td>84.0</td>\n",
              "      <td>Christopher Nolan</td>\n",
              "      <td>Christian Bale</td>\n",
              "      <td>Heath Ledger</td>\n",
              "      <td>Aaron Eckhart</td>\n",
              "      <td>Michael Caine</td>\n",
              "      <td>2303232</td>\n",
              "      <td>534,858,444</td>\n",
              "    </tr>\n",
              "    <tr>\n",
              "      <th>3</th>\n",
              "      <td>https://m.media-amazon.com/images/M/MV5BMWMwMG...</td>\n",
              "      <td>The Godfather: Part II</td>\n",
              "      <td>1974</td>\n",
              "      <td>A</td>\n",
              "      <td>202 min</td>\n",
              "      <td>Crime, Drama</td>\n",
              "      <td>9.0</td>\n",
              "      <td>The early life and career of Vito Corleone in ...</td>\n",
              "      <td>90.0</td>\n",
              "      <td>Francis Ford Coppola</td>\n",
              "      <td>Al Pacino</td>\n",
              "      <td>Robert De Niro</td>\n",
              "      <td>Robert Duvall</td>\n",
              "      <td>Diane Keaton</td>\n",
              "      <td>1129952</td>\n",
              "      <td>57,300,000</td>\n",
              "    </tr>\n",
              "    <tr>\n",
              "      <th>4</th>\n",
              "      <td>https://m.media-amazon.com/images/M/MV5BMWU4N2...</td>\n",
              "      <td>12 Angry Men</td>\n",
              "      <td>1957</td>\n",
              "      <td>U</td>\n",
              "      <td>96 min</td>\n",
              "      <td>Crime, Drama</td>\n",
              "      <td>9.0</td>\n",
              "      <td>A jury holdout attempts to prevent a miscarria...</td>\n",
              "      <td>96.0</td>\n",
              "      <td>Sidney Lumet</td>\n",
              "      <td>Henry Fonda</td>\n",
              "      <td>Lee J. Cobb</td>\n",
              "      <td>Martin Balsam</td>\n",
              "      <td>John Fiedler</td>\n",
              "      <td>689845</td>\n",
              "      <td>4,360,000</td>\n",
              "    </tr>\n",
              "  </tbody>\n",
              "</table>\n",
              "</div>\n",
              "    <div class=\"colab-df-buttons\">\n",
              "\n",
              "  <div class=\"colab-df-container\">\n",
              "    <button class=\"colab-df-convert\" onclick=\"convertToInteractive('df-c6e17f19-dd6f-40a0-9cf4-18b21eecff18')\"\n",
              "            title=\"Convert this dataframe to an interactive table.\"\n",
              "            style=\"display:none;\">\n",
              "\n",
              "  <svg xmlns=\"http://www.w3.org/2000/svg\" height=\"24px\" viewBox=\"0 -960 960 960\">\n",
              "    <path d=\"M120-120v-720h720v720H120Zm60-500h600v-160H180v160Zm220 220h160v-160H400v160Zm0 220h160v-160H400v160ZM180-400h160v-160H180v160Zm440 0h160v-160H620v160ZM180-180h160v-160H180v160Zm440 0h160v-160H620v160Z\"/>\n",
              "  </svg>\n",
              "    </button>\n",
              "\n",
              "  <style>\n",
              "    .colab-df-container {\n",
              "      display:flex;\n",
              "      gap: 12px;\n",
              "    }\n",
              "\n",
              "    .colab-df-convert {\n",
              "      background-color: #E8F0FE;\n",
              "      border: none;\n",
              "      border-radius: 50%;\n",
              "      cursor: pointer;\n",
              "      display: none;\n",
              "      fill: #1967D2;\n",
              "      height: 32px;\n",
              "      padding: 0 0 0 0;\n",
              "      width: 32px;\n",
              "    }\n",
              "\n",
              "    .colab-df-convert:hover {\n",
              "      background-color: #E2EBFA;\n",
              "      box-shadow: 0px 1px 2px rgba(60, 64, 67, 0.3), 0px 1px 3px 1px rgba(60, 64, 67, 0.15);\n",
              "      fill: #174EA6;\n",
              "    }\n",
              "\n",
              "    .colab-df-buttons div {\n",
              "      margin-bottom: 4px;\n",
              "    }\n",
              "\n",
              "    [theme=dark] .colab-df-convert {\n",
              "      background-color: #3B4455;\n",
              "      fill: #D2E3FC;\n",
              "    }\n",
              "\n",
              "    [theme=dark] .colab-df-convert:hover {\n",
              "      background-color: #434B5C;\n",
              "      box-shadow: 0px 1px 3px 1px rgba(0, 0, 0, 0.15);\n",
              "      filter: drop-shadow(0px 1px 2px rgba(0, 0, 0, 0.3));\n",
              "      fill: #FFFFFF;\n",
              "    }\n",
              "  </style>\n",
              "\n",
              "    <script>\n",
              "      const buttonEl =\n",
              "        document.querySelector('#df-c6e17f19-dd6f-40a0-9cf4-18b21eecff18 button.colab-df-convert');\n",
              "      buttonEl.style.display =\n",
              "        google.colab.kernel.accessAllowed ? 'block' : 'none';\n",
              "\n",
              "      async function convertToInteractive(key) {\n",
              "        const element = document.querySelector('#df-c6e17f19-dd6f-40a0-9cf4-18b21eecff18');\n",
              "        const dataTable =\n",
              "          await google.colab.kernel.invokeFunction('convertToInteractive',\n",
              "                                                    [key], {});\n",
              "        if (!dataTable) return;\n",
              "\n",
              "        const docLinkHtml = 'Like what you see? Visit the ' +\n",
              "          '<a target=\"_blank\" href=https://colab.research.google.com/notebooks/data_table.ipynb>data table notebook</a>'\n",
              "          + ' to learn more about interactive tables.';\n",
              "        element.innerHTML = '';\n",
              "        dataTable['output_type'] = 'display_data';\n",
              "        await google.colab.output.renderOutput(dataTable, element);\n",
              "        const docLink = document.createElement('div');\n",
              "        docLink.innerHTML = docLinkHtml;\n",
              "        element.appendChild(docLink);\n",
              "      }\n",
              "    </script>\n",
              "  </div>\n",
              "\n",
              "\n",
              "    <div id=\"df-13923b09-32b0-4325-8c31-0d4f5e76e5de\">\n",
              "      <button class=\"colab-df-quickchart\" onclick=\"quickchart('df-13923b09-32b0-4325-8c31-0d4f5e76e5de')\"\n",
              "                title=\"Suggest charts\"\n",
              "                style=\"display:none;\">\n",
              "\n",
              "<svg xmlns=\"http://www.w3.org/2000/svg\" height=\"24px\"viewBox=\"0 0 24 24\"\n",
              "     width=\"24px\">\n",
              "    <g>\n",
              "        <path d=\"M19 3H5c-1.1 0-2 .9-2 2v14c0 1.1.9 2 2 2h14c1.1 0 2-.9 2-2V5c0-1.1-.9-2-2-2zM9 17H7v-7h2v7zm4 0h-2V7h2v10zm4 0h-2v-4h2v4z\"/>\n",
              "    </g>\n",
              "</svg>\n",
              "      </button>\n",
              "\n",
              "<style>\n",
              "  .colab-df-quickchart {\n",
              "      --bg-color: #E8F0FE;\n",
              "      --fill-color: #1967D2;\n",
              "      --hover-bg-color: #E2EBFA;\n",
              "      --hover-fill-color: #174EA6;\n",
              "      --disabled-fill-color: #AAA;\n",
              "      --disabled-bg-color: #DDD;\n",
              "  }\n",
              "\n",
              "  [theme=dark] .colab-df-quickchart {\n",
              "      --bg-color: #3B4455;\n",
              "      --fill-color: #D2E3FC;\n",
              "      --hover-bg-color: #434B5C;\n",
              "      --hover-fill-color: #FFFFFF;\n",
              "      --disabled-bg-color: #3B4455;\n",
              "      --disabled-fill-color: #666;\n",
              "  }\n",
              "\n",
              "  .colab-df-quickchart {\n",
              "    background-color: var(--bg-color);\n",
              "    border: none;\n",
              "    border-radius: 50%;\n",
              "    cursor: pointer;\n",
              "    display: none;\n",
              "    fill: var(--fill-color);\n",
              "    height: 32px;\n",
              "    padding: 0;\n",
              "    width: 32px;\n",
              "  }\n",
              "\n",
              "  .colab-df-quickchart:hover {\n",
              "    background-color: var(--hover-bg-color);\n",
              "    box-shadow: 0 1px 2px rgba(60, 64, 67, 0.3), 0 1px 3px 1px rgba(60, 64, 67, 0.15);\n",
              "    fill: var(--button-hover-fill-color);\n",
              "  }\n",
              "\n",
              "  .colab-df-quickchart-complete:disabled,\n",
              "  .colab-df-quickchart-complete:disabled:hover {\n",
              "    background-color: var(--disabled-bg-color);\n",
              "    fill: var(--disabled-fill-color);\n",
              "    box-shadow: none;\n",
              "  }\n",
              "\n",
              "  .colab-df-spinner {\n",
              "    border: 2px solid var(--fill-color);\n",
              "    border-color: transparent;\n",
              "    border-bottom-color: var(--fill-color);\n",
              "    animation:\n",
              "      spin 1s steps(1) infinite;\n",
              "  }\n",
              "\n",
              "  @keyframes spin {\n",
              "    0% {\n",
              "      border-color: transparent;\n",
              "      border-bottom-color: var(--fill-color);\n",
              "      border-left-color: var(--fill-color);\n",
              "    }\n",
              "    20% {\n",
              "      border-color: transparent;\n",
              "      border-left-color: var(--fill-color);\n",
              "      border-top-color: var(--fill-color);\n",
              "    }\n",
              "    30% {\n",
              "      border-color: transparent;\n",
              "      border-left-color: var(--fill-color);\n",
              "      border-top-color: var(--fill-color);\n",
              "      border-right-color: var(--fill-color);\n",
              "    }\n",
              "    40% {\n",
              "      border-color: transparent;\n",
              "      border-right-color: var(--fill-color);\n",
              "      border-top-color: var(--fill-color);\n",
              "    }\n",
              "    60% {\n",
              "      border-color: transparent;\n",
              "      border-right-color: var(--fill-color);\n",
              "    }\n",
              "    80% {\n",
              "      border-color: transparent;\n",
              "      border-right-color: var(--fill-color);\n",
              "      border-bottom-color: var(--fill-color);\n",
              "    }\n",
              "    90% {\n",
              "      border-color: transparent;\n",
              "      border-bottom-color: var(--fill-color);\n",
              "    }\n",
              "  }\n",
              "</style>\n",
              "\n",
              "      <script>\n",
              "        async function quickchart(key) {\n",
              "          const quickchartButtonEl =\n",
              "            document.querySelector('#' + key + ' button');\n",
              "          quickchartButtonEl.disabled = true;  // To prevent multiple clicks.\n",
              "          quickchartButtonEl.classList.add('colab-df-spinner');\n",
              "          try {\n",
              "            const charts = await google.colab.kernel.invokeFunction(\n",
              "                'suggestCharts', [key], {});\n",
              "          } catch (error) {\n",
              "            console.error('Error during call to suggestCharts:', error);\n",
              "          }\n",
              "          quickchartButtonEl.classList.remove('colab-df-spinner');\n",
              "          quickchartButtonEl.classList.add('colab-df-quickchart-complete');\n",
              "        }\n",
              "        (() => {\n",
              "          let quickchartButtonEl =\n",
              "            document.querySelector('#df-13923b09-32b0-4325-8c31-0d4f5e76e5de button');\n",
              "          quickchartButtonEl.style.display =\n",
              "            google.colab.kernel.accessAllowed ? 'block' : 'none';\n",
              "        })();\n",
              "      </script>\n",
              "    </div>\n",
              "\n",
              "    </div>\n",
              "  </div>\n"
            ],
            "application/vnd.google.colaboratory.intrinsic+json": {
              "type": "dataframe",
              "variable_name": "df",
              "summary": "{\n  \"name\": \"df\",\n  \"rows\": 1000,\n  \"fields\": [\n    {\n      \"column\": \"Poster_Link\",\n      \"properties\": {\n        \"dtype\": \"string\",\n        \"num_unique_values\": 1000,\n        \"samples\": [\n          \"https://m.media-amazon.com/images/M/MV5BMjg5OGU4OGYtNTZmNy00MjQ1LWIzYzgtMTllMGY2NzlkNzYwXkEyXkFqcGdeQXVyMTI3ODAyMzE2._V1_UY98_CR2,0,67,98_AL_.jpg\",\n          \"https://m.media-amazon.com/images/M/MV5BMzA2NDkwODAwM15BMl5BanBnXkFtZTgwODk5MTgzMTE@._V1_UY98_CR0,0,67,98_AL_.jpg\",\n          \"https://m.media-amazon.com/images/M/MV5BNzMxNTExOTkyMF5BMl5BanBnXkFtZTcwMzEyNDc0OA@@._V1_UX67_CR0,0,67,98_AL_.jpg\"\n        ],\n        \"semantic_type\": \"\",\n        \"description\": \"\"\n      }\n    },\n    {\n      \"column\": \"Series_Title\",\n      \"properties\": {\n        \"dtype\": \"string\",\n        \"num_unique_values\": 999,\n        \"samples\": [\n          \"The Best Years of Our Lives\",\n          \"Hedwig and the Angry Inch\",\n          \"Gone Girl\"\n        ],\n        \"semantic_type\": \"\",\n        \"description\": \"\"\n      }\n    },\n    {\n      \"column\": \"Released_Year\",\n      \"properties\": {\n        \"dtype\": \"category\",\n        \"num_unique_values\": 100,\n        \"samples\": [\n          \"1934\",\n          \"1992\",\n          \"1989\"\n        ],\n        \"semantic_type\": \"\",\n        \"description\": \"\"\n      }\n    },\n    {\n      \"column\": \"Certificate\",\n      \"properties\": {\n        \"dtype\": \"category\",\n        \"num_unique_values\": 16,\n        \"samples\": [\n          \"A\",\n          \"UA\",\n          \"PG\"\n        ],\n        \"semantic_type\": \"\",\n        \"description\": \"\"\n      }\n    },\n    {\n      \"column\": \"Runtime\",\n      \"properties\": {\n        \"dtype\": \"category\",\n        \"num_unique_values\": 140,\n        \"samples\": [\n          \"205 min\",\n          \"129 min\",\n          \"112 min\"\n        ],\n        \"semantic_type\": \"\",\n        \"description\": \"\"\n      }\n    },\n    {\n      \"column\": \"Genre\",\n      \"properties\": {\n        \"dtype\": \"category\",\n        \"num_unique_values\": 202,\n        \"samples\": [\n          \"Comedy, Drama, Fantasy\",\n          \"Crime, Drama, Fantasy\",\n          \"Drama, Romance, War\"\n        ],\n        \"semantic_type\": \"\",\n        \"description\": \"\"\n      }\n    },\n    {\n      \"column\": \"IMDB_Rating\",\n      \"properties\": {\n        \"dtype\": \"number\",\n        \"std\": 0.27549120749200917,\n        \"min\": 7.6,\n        \"max\": 9.3,\n        \"num_unique_values\": 17,\n        \"samples\": [\n          9.3,\n          9.2,\n          8.7\n        ],\n        \"semantic_type\": \"\",\n        \"description\": \"\"\n      }\n    },\n    {\n      \"column\": \"Overview\",\n      \"properties\": {\n        \"dtype\": \"string\",\n        \"num_unique_values\": 1000,\n        \"samples\": [\n          \"A woman struggles to find a way to live her life after the death of her husband and child.\",\n          \"As Steve Rogers struggles to embrace his role in the modern world, he teams up with a fellow Avenger and S.H.I.E.L.D agent, Black Widow, to battle a new threat from history: an assassin known as the Winter Soldier.\",\n          \"A video game villain wants to be a hero and sets out to fulfill his dream, but his quest brings havoc to the whole arcade where he lives.\"\n        ],\n        \"semantic_type\": \"\",\n        \"description\": \"\"\n      }\n    },\n    {\n      \"column\": \"Meta_score\",\n      \"properties\": {\n        \"dtype\": \"number\",\n        \"std\": 12.376099328602022,\n        \"min\": 28.0,\n        \"max\": 100.0,\n        \"num_unique_values\": 63,\n        \"samples\": [\n          30.0,\n          52.0,\n          80.0\n        ],\n        \"semantic_type\": \"\",\n        \"description\": \"\"\n      }\n    },\n    {\n      \"column\": \"Director\",\n      \"properties\": {\n        \"dtype\": \"string\",\n        \"num_unique_values\": 548,\n        \"samples\": [\n          \"Satoshi Kon\",\n          \"David Lean\",\n          \"Yilmaz Erdogan\"\n        ],\n        \"semantic_type\": \"\",\n        \"description\": \"\"\n      }\n    },\n    {\n      \"column\": \"Star1\",\n      \"properties\": {\n        \"dtype\": \"string\",\n        \"num_unique_values\": 660,\n        \"samples\": [\n          \"Peter Dinklage\",\n          \"Josh O'Connor\",\n          \"Terry Jones\"\n        ],\n        \"semantic_type\": \"\",\n        \"description\": \"\"\n      }\n    },\n    {\n      \"column\": \"Star2\",\n      \"properties\": {\n        \"dtype\": \"string\",\n        \"num_unique_values\": 841,\n        \"samples\": [\n          \"Ruy Guerra\",\n          \"Meg Ryan\",\n          \"Donna Reed\"\n        ],\n        \"semantic_type\": \"\",\n        \"description\": \"\"\n      }\n    },\n    {\n      \"column\": \"Star3\",\n      \"properties\": {\n        \"dtype\": \"string\",\n        \"num_unique_values\": 891,\n        \"samples\": [\n          \"Giovanni Ribisi\",\n          \"Julia Greer\",\n          \"Naomi Watts\"\n        ],\n        \"semantic_type\": \"\",\n        \"description\": \"\"\n      }\n    },\n    {\n      \"column\": \"Star4\",\n      \"properties\": {\n        \"dtype\": \"string\",\n        \"num_unique_values\": 939,\n        \"samples\": [\n          \"Trevor Howard\",\n          \"Ulrich Tukur\",\n          \"Hemendra Dandotiya\"\n        ],\n        \"semantic_type\": \"\",\n        \"description\": \"\"\n      }\n    },\n    {\n      \"column\": \"No_of_Votes\",\n      \"properties\": {\n        \"dtype\": \"number\",\n        \"std\": 327372,\n        \"min\": 25088,\n        \"max\": 2343110,\n        \"num_unique_values\": 999,\n        \"samples\": [\n          42725,\n          31957,\n          707630\n        ],\n        \"semantic_type\": \"\",\n        \"description\": \"\"\n      }\n    },\n    {\n      \"column\": \"Gross\",\n      \"properties\": {\n        \"dtype\": \"string\",\n        \"num_unique_values\": 823,\n        \"samples\": [\n          \"132,092,958\",\n          \"67,209,615\",\n          \"78,900,000\"\n        ],\n        \"semantic_type\": \"\",\n        \"description\": \"\"\n      }\n    }\n  ]\n}"
            }
          },
          "metadata": {},
          "execution_count": 11
        }
      ]
    },
    {
      "cell_type": "code",
      "source": [
        "df.info()"
      ],
      "metadata": {
        "colab": {
          "base_uri": "https://localhost:8080/"
        },
        "id": "ZKvKpoaVwd6I",
        "outputId": "bd15aab2-e556-4634-d4b9-9b987bd158cc"
      },
      "execution_count": 12,
      "outputs": [
        {
          "output_type": "stream",
          "name": "stdout",
          "text": [
            "<class 'pandas.core.frame.DataFrame'>\n",
            "RangeIndex: 1000 entries, 0 to 999\n",
            "Data columns (total 16 columns):\n",
            " #   Column         Non-Null Count  Dtype  \n",
            "---  ------         --------------  -----  \n",
            " 0   Poster_Link    1000 non-null   object \n",
            " 1   Series_Title   1000 non-null   object \n",
            " 2   Released_Year  1000 non-null   object \n",
            " 3   Certificate    899 non-null    object \n",
            " 4   Runtime        1000 non-null   object \n",
            " 5   Genre          1000 non-null   object \n",
            " 6   IMDB_Rating    1000 non-null   float64\n",
            " 7   Overview       1000 non-null   object \n",
            " 8   Meta_score     843 non-null    float64\n",
            " 9   Director       1000 non-null   object \n",
            " 10  Star1          1000 non-null   object \n",
            " 11  Star2          1000 non-null   object \n",
            " 12  Star3          1000 non-null   object \n",
            " 13  Star4          1000 non-null   object \n",
            " 14  No_of_Votes    1000 non-null   int64  \n",
            " 15  Gross          831 non-null    object \n",
            "dtypes: float64(2), int64(1), object(13)\n",
            "memory usage: 125.1+ KB\n"
          ]
        }
      ]
    },
    {
      "cell_type": "code",
      "source": [
        "data = df.copy() #copy data table\n",
        "# data = data.iloc[:1000,].reset_index(drop=True)\n",
        "data = data.dropna(subset=['Certificate', 'Meta_score', 'Gross']).reset_index(drop=True) #delete rows that contain missing values\n",
        "data.head()"
      ],
      "metadata": {
        "colab": {
          "base_uri": "https://localhost:8080/",
          "height": 677
        },
        "id": "AfFhJP1q1RmJ",
        "outputId": "6dc1ed6b-e66b-48ba-ba78-e965f3fd9ee9"
      },
      "execution_count": 14,
      "outputs": [
        {
          "output_type": "execute_result",
          "data": {
            "text/plain": [
              "                                         Poster_Link  \\\n",
              "0  https://m.media-amazon.com/images/M/MV5BMDFkYT...   \n",
              "1  https://m.media-amazon.com/images/M/MV5BM2MyNj...   \n",
              "2  https://m.media-amazon.com/images/M/MV5BMTMxNT...   \n",
              "3  https://m.media-amazon.com/images/M/MV5BMWMwMG...   \n",
              "4  https://m.media-amazon.com/images/M/MV5BMWU4N2...   \n",
              "\n",
              "               Series_Title Released_Year Certificate  Runtime  \\\n",
              "0  The Shawshank Redemption          1994           A  142 min   \n",
              "1             The Godfather          1972           A  175 min   \n",
              "2           The Dark Knight          2008          UA  152 min   \n",
              "3    The Godfather: Part II          1974           A  202 min   \n",
              "4              12 Angry Men          1957           U   96 min   \n",
              "\n",
              "                  Genre  IMDB_Rating  \\\n",
              "0                 Drama          9.3   \n",
              "1          Crime, Drama          9.2   \n",
              "2  Action, Crime, Drama          9.0   \n",
              "3          Crime, Drama          9.0   \n",
              "4          Crime, Drama          9.0   \n",
              "\n",
              "                                            Overview  Meta_score  \\\n",
              "0  Two imprisoned men bond over a number of years...        80.0   \n",
              "1  An organized crime dynasty's aging patriarch t...       100.0   \n",
              "2  When the menace known as the Joker wreaks havo...        84.0   \n",
              "3  The early life and career of Vito Corleone in ...        90.0   \n",
              "4  A jury holdout attempts to prevent a miscarria...        96.0   \n",
              "\n",
              "               Director           Star1           Star2          Star3  \\\n",
              "0        Frank Darabont     Tim Robbins  Morgan Freeman     Bob Gunton   \n",
              "1  Francis Ford Coppola   Marlon Brando       Al Pacino     James Caan   \n",
              "2     Christopher Nolan  Christian Bale    Heath Ledger  Aaron Eckhart   \n",
              "3  Francis Ford Coppola       Al Pacino  Robert De Niro  Robert Duvall   \n",
              "4          Sidney Lumet     Henry Fonda     Lee J. Cobb  Martin Balsam   \n",
              "\n",
              "            Star4  No_of_Votes        Gross  \n",
              "0  William Sadler      2343110   28,341,469  \n",
              "1    Diane Keaton      1620367  134,966,411  \n",
              "2   Michael Caine      2303232  534,858,444  \n",
              "3    Diane Keaton      1129952   57,300,000  \n",
              "4    John Fiedler       689845    4,360,000  "
            ],
            "text/html": [
              "\n",
              "  <div id=\"df-d415817d-4743-41ef-9663-b2fa849304eb\" class=\"colab-df-container\">\n",
              "    <div>\n",
              "<style scoped>\n",
              "    .dataframe tbody tr th:only-of-type {\n",
              "        vertical-align: middle;\n",
              "    }\n",
              "\n",
              "    .dataframe tbody tr th {\n",
              "        vertical-align: top;\n",
              "    }\n",
              "\n",
              "    .dataframe thead th {\n",
              "        text-align: right;\n",
              "    }\n",
              "</style>\n",
              "<table border=\"1\" class=\"dataframe\">\n",
              "  <thead>\n",
              "    <tr style=\"text-align: right;\">\n",
              "      <th></th>\n",
              "      <th>Poster_Link</th>\n",
              "      <th>Series_Title</th>\n",
              "      <th>Released_Year</th>\n",
              "      <th>Certificate</th>\n",
              "      <th>Runtime</th>\n",
              "      <th>Genre</th>\n",
              "      <th>IMDB_Rating</th>\n",
              "      <th>Overview</th>\n",
              "      <th>Meta_score</th>\n",
              "      <th>Director</th>\n",
              "      <th>Star1</th>\n",
              "      <th>Star2</th>\n",
              "      <th>Star3</th>\n",
              "      <th>Star4</th>\n",
              "      <th>No_of_Votes</th>\n",
              "      <th>Gross</th>\n",
              "    </tr>\n",
              "  </thead>\n",
              "  <tbody>\n",
              "    <tr>\n",
              "      <th>0</th>\n",
              "      <td>https://m.media-amazon.com/images/M/MV5BMDFkYT...</td>\n",
              "      <td>The Shawshank Redemption</td>\n",
              "      <td>1994</td>\n",
              "      <td>A</td>\n",
              "      <td>142 min</td>\n",
              "      <td>Drama</td>\n",
              "      <td>9.3</td>\n",
              "      <td>Two imprisoned men bond over a number of years...</td>\n",
              "      <td>80.0</td>\n",
              "      <td>Frank Darabont</td>\n",
              "      <td>Tim Robbins</td>\n",
              "      <td>Morgan Freeman</td>\n",
              "      <td>Bob Gunton</td>\n",
              "      <td>William Sadler</td>\n",
              "      <td>2343110</td>\n",
              "      <td>28,341,469</td>\n",
              "    </tr>\n",
              "    <tr>\n",
              "      <th>1</th>\n",
              "      <td>https://m.media-amazon.com/images/M/MV5BM2MyNj...</td>\n",
              "      <td>The Godfather</td>\n",
              "      <td>1972</td>\n",
              "      <td>A</td>\n",
              "      <td>175 min</td>\n",
              "      <td>Crime, Drama</td>\n",
              "      <td>9.2</td>\n",
              "      <td>An organized crime dynasty's aging patriarch t...</td>\n",
              "      <td>100.0</td>\n",
              "      <td>Francis Ford Coppola</td>\n",
              "      <td>Marlon Brando</td>\n",
              "      <td>Al Pacino</td>\n",
              "      <td>James Caan</td>\n",
              "      <td>Diane Keaton</td>\n",
              "      <td>1620367</td>\n",
              "      <td>134,966,411</td>\n",
              "    </tr>\n",
              "    <tr>\n",
              "      <th>2</th>\n",
              "      <td>https://m.media-amazon.com/images/M/MV5BMTMxNT...</td>\n",
              "      <td>The Dark Knight</td>\n",
              "      <td>2008</td>\n",
              "      <td>UA</td>\n",
              "      <td>152 min</td>\n",
              "      <td>Action, Crime, Drama</td>\n",
              "      <td>9.0</td>\n",
              "      <td>When the menace known as the Joker wreaks havo...</td>\n",
              "      <td>84.0</td>\n",
              "      <td>Christopher Nolan</td>\n",
              "      <td>Christian Bale</td>\n",
              "      <td>Heath Ledger</td>\n",
              "      <td>Aaron Eckhart</td>\n",
              "      <td>Michael Caine</td>\n",
              "      <td>2303232</td>\n",
              "      <td>534,858,444</td>\n",
              "    </tr>\n",
              "    <tr>\n",
              "      <th>3</th>\n",
              "      <td>https://m.media-amazon.com/images/M/MV5BMWMwMG...</td>\n",
              "      <td>The Godfather: Part II</td>\n",
              "      <td>1974</td>\n",
              "      <td>A</td>\n",
              "      <td>202 min</td>\n",
              "      <td>Crime, Drama</td>\n",
              "      <td>9.0</td>\n",
              "      <td>The early life and career of Vito Corleone in ...</td>\n",
              "      <td>90.0</td>\n",
              "      <td>Francis Ford Coppola</td>\n",
              "      <td>Al Pacino</td>\n",
              "      <td>Robert De Niro</td>\n",
              "      <td>Robert Duvall</td>\n",
              "      <td>Diane Keaton</td>\n",
              "      <td>1129952</td>\n",
              "      <td>57,300,000</td>\n",
              "    </tr>\n",
              "    <tr>\n",
              "      <th>4</th>\n",
              "      <td>https://m.media-amazon.com/images/M/MV5BMWU4N2...</td>\n",
              "      <td>12 Angry Men</td>\n",
              "      <td>1957</td>\n",
              "      <td>U</td>\n",
              "      <td>96 min</td>\n",
              "      <td>Crime, Drama</td>\n",
              "      <td>9.0</td>\n",
              "      <td>A jury holdout attempts to prevent a miscarria...</td>\n",
              "      <td>96.0</td>\n",
              "      <td>Sidney Lumet</td>\n",
              "      <td>Henry Fonda</td>\n",
              "      <td>Lee J. Cobb</td>\n",
              "      <td>Martin Balsam</td>\n",
              "      <td>John Fiedler</td>\n",
              "      <td>689845</td>\n",
              "      <td>4,360,000</td>\n",
              "    </tr>\n",
              "  </tbody>\n",
              "</table>\n",
              "</div>\n",
              "    <div class=\"colab-df-buttons\">\n",
              "\n",
              "  <div class=\"colab-df-container\">\n",
              "    <button class=\"colab-df-convert\" onclick=\"convertToInteractive('df-d415817d-4743-41ef-9663-b2fa849304eb')\"\n",
              "            title=\"Convert this dataframe to an interactive table.\"\n",
              "            style=\"display:none;\">\n",
              "\n",
              "  <svg xmlns=\"http://www.w3.org/2000/svg\" height=\"24px\" viewBox=\"0 -960 960 960\">\n",
              "    <path d=\"M120-120v-720h720v720H120Zm60-500h600v-160H180v160Zm220 220h160v-160H400v160Zm0 220h160v-160H400v160ZM180-400h160v-160H180v160Zm440 0h160v-160H620v160ZM180-180h160v-160H180v160Zm440 0h160v-160H620v160Z\"/>\n",
              "  </svg>\n",
              "    </button>\n",
              "\n",
              "  <style>\n",
              "    .colab-df-container {\n",
              "      display:flex;\n",
              "      gap: 12px;\n",
              "    }\n",
              "\n",
              "    .colab-df-convert {\n",
              "      background-color: #E8F0FE;\n",
              "      border: none;\n",
              "      border-radius: 50%;\n",
              "      cursor: pointer;\n",
              "      display: none;\n",
              "      fill: #1967D2;\n",
              "      height: 32px;\n",
              "      padding: 0 0 0 0;\n",
              "      width: 32px;\n",
              "    }\n",
              "\n",
              "    .colab-df-convert:hover {\n",
              "      background-color: #E2EBFA;\n",
              "      box-shadow: 0px 1px 2px rgba(60, 64, 67, 0.3), 0px 1px 3px 1px rgba(60, 64, 67, 0.15);\n",
              "      fill: #174EA6;\n",
              "    }\n",
              "\n",
              "    .colab-df-buttons div {\n",
              "      margin-bottom: 4px;\n",
              "    }\n",
              "\n",
              "    [theme=dark] .colab-df-convert {\n",
              "      background-color: #3B4455;\n",
              "      fill: #D2E3FC;\n",
              "    }\n",
              "\n",
              "    [theme=dark] .colab-df-convert:hover {\n",
              "      background-color: #434B5C;\n",
              "      box-shadow: 0px 1px 3px 1px rgba(0, 0, 0, 0.15);\n",
              "      filter: drop-shadow(0px 1px 2px rgba(0, 0, 0, 0.3));\n",
              "      fill: #FFFFFF;\n",
              "    }\n",
              "  </style>\n",
              "\n",
              "    <script>\n",
              "      const buttonEl =\n",
              "        document.querySelector('#df-d415817d-4743-41ef-9663-b2fa849304eb button.colab-df-convert');\n",
              "      buttonEl.style.display =\n",
              "        google.colab.kernel.accessAllowed ? 'block' : 'none';\n",
              "\n",
              "      async function convertToInteractive(key) {\n",
              "        const element = document.querySelector('#df-d415817d-4743-41ef-9663-b2fa849304eb');\n",
              "        const dataTable =\n",
              "          await google.colab.kernel.invokeFunction('convertToInteractive',\n",
              "                                                    [key], {});\n",
              "        if (!dataTable) return;\n",
              "\n",
              "        const docLinkHtml = 'Like what you see? Visit the ' +\n",
              "          '<a target=\"_blank\" href=https://colab.research.google.com/notebooks/data_table.ipynb>data table notebook</a>'\n",
              "          + ' to learn more about interactive tables.';\n",
              "        element.innerHTML = '';\n",
              "        dataTable['output_type'] = 'display_data';\n",
              "        await google.colab.output.renderOutput(dataTable, element);\n",
              "        const docLink = document.createElement('div');\n",
              "        docLink.innerHTML = docLinkHtml;\n",
              "        element.appendChild(docLink);\n",
              "      }\n",
              "    </script>\n",
              "  </div>\n",
              "\n",
              "\n",
              "    <div id=\"df-2dc619b9-a22c-471e-b114-19c97ad1148b\">\n",
              "      <button class=\"colab-df-quickchart\" onclick=\"quickchart('df-2dc619b9-a22c-471e-b114-19c97ad1148b')\"\n",
              "                title=\"Suggest charts\"\n",
              "                style=\"display:none;\">\n",
              "\n",
              "<svg xmlns=\"http://www.w3.org/2000/svg\" height=\"24px\"viewBox=\"0 0 24 24\"\n",
              "     width=\"24px\">\n",
              "    <g>\n",
              "        <path d=\"M19 3H5c-1.1 0-2 .9-2 2v14c0 1.1.9 2 2 2h14c1.1 0 2-.9 2-2V5c0-1.1-.9-2-2-2zM9 17H7v-7h2v7zm4 0h-2V7h2v10zm4 0h-2v-4h2v4z\"/>\n",
              "    </g>\n",
              "</svg>\n",
              "      </button>\n",
              "\n",
              "<style>\n",
              "  .colab-df-quickchart {\n",
              "      --bg-color: #E8F0FE;\n",
              "      --fill-color: #1967D2;\n",
              "      --hover-bg-color: #E2EBFA;\n",
              "      --hover-fill-color: #174EA6;\n",
              "      --disabled-fill-color: #AAA;\n",
              "      --disabled-bg-color: #DDD;\n",
              "  }\n",
              "\n",
              "  [theme=dark] .colab-df-quickchart {\n",
              "      --bg-color: #3B4455;\n",
              "      --fill-color: #D2E3FC;\n",
              "      --hover-bg-color: #434B5C;\n",
              "      --hover-fill-color: #FFFFFF;\n",
              "      --disabled-bg-color: #3B4455;\n",
              "      --disabled-fill-color: #666;\n",
              "  }\n",
              "\n",
              "  .colab-df-quickchart {\n",
              "    background-color: var(--bg-color);\n",
              "    border: none;\n",
              "    border-radius: 50%;\n",
              "    cursor: pointer;\n",
              "    display: none;\n",
              "    fill: var(--fill-color);\n",
              "    height: 32px;\n",
              "    padding: 0;\n",
              "    width: 32px;\n",
              "  }\n",
              "\n",
              "  .colab-df-quickchart:hover {\n",
              "    background-color: var(--hover-bg-color);\n",
              "    box-shadow: 0 1px 2px rgba(60, 64, 67, 0.3), 0 1px 3px 1px rgba(60, 64, 67, 0.15);\n",
              "    fill: var(--button-hover-fill-color);\n",
              "  }\n",
              "\n",
              "  .colab-df-quickchart-complete:disabled,\n",
              "  .colab-df-quickchart-complete:disabled:hover {\n",
              "    background-color: var(--disabled-bg-color);\n",
              "    fill: var(--disabled-fill-color);\n",
              "    box-shadow: none;\n",
              "  }\n",
              "\n",
              "  .colab-df-spinner {\n",
              "    border: 2px solid var(--fill-color);\n",
              "    border-color: transparent;\n",
              "    border-bottom-color: var(--fill-color);\n",
              "    animation:\n",
              "      spin 1s steps(1) infinite;\n",
              "  }\n",
              "\n",
              "  @keyframes spin {\n",
              "    0% {\n",
              "      border-color: transparent;\n",
              "      border-bottom-color: var(--fill-color);\n",
              "      border-left-color: var(--fill-color);\n",
              "    }\n",
              "    20% {\n",
              "      border-color: transparent;\n",
              "      border-left-color: var(--fill-color);\n",
              "      border-top-color: var(--fill-color);\n",
              "    }\n",
              "    30% {\n",
              "      border-color: transparent;\n",
              "      border-left-color: var(--fill-color);\n",
              "      border-top-color: var(--fill-color);\n",
              "      border-right-color: var(--fill-color);\n",
              "    }\n",
              "    40% {\n",
              "      border-color: transparent;\n",
              "      border-right-color: var(--fill-color);\n",
              "      border-top-color: var(--fill-color);\n",
              "    }\n",
              "    60% {\n",
              "      border-color: transparent;\n",
              "      border-right-color: var(--fill-color);\n",
              "    }\n",
              "    80% {\n",
              "      border-color: transparent;\n",
              "      border-right-color: var(--fill-color);\n",
              "      border-bottom-color: var(--fill-color);\n",
              "    }\n",
              "    90% {\n",
              "      border-color: transparent;\n",
              "      border-bottom-color: var(--fill-color);\n",
              "    }\n",
              "  }\n",
              "</style>\n",
              "\n",
              "      <script>\n",
              "        async function quickchart(key) {\n",
              "          const quickchartButtonEl =\n",
              "            document.querySelector('#' + key + ' button');\n",
              "          quickchartButtonEl.disabled = true;  // To prevent multiple clicks.\n",
              "          quickchartButtonEl.classList.add('colab-df-spinner');\n",
              "          try {\n",
              "            const charts = await google.colab.kernel.invokeFunction(\n",
              "                'suggestCharts', [key], {});\n",
              "          } catch (error) {\n",
              "            console.error('Error during call to suggestCharts:', error);\n",
              "          }\n",
              "          quickchartButtonEl.classList.remove('colab-df-spinner');\n",
              "          quickchartButtonEl.classList.add('colab-df-quickchart-complete');\n",
              "        }\n",
              "        (() => {\n",
              "          let quickchartButtonEl =\n",
              "            document.querySelector('#df-2dc619b9-a22c-471e-b114-19c97ad1148b button');\n",
              "          quickchartButtonEl.style.display =\n",
              "            google.colab.kernel.accessAllowed ? 'block' : 'none';\n",
              "        })();\n",
              "      </script>\n",
              "    </div>\n",
              "\n",
              "    </div>\n",
              "  </div>\n"
            ],
            "application/vnd.google.colaboratory.intrinsic+json": {
              "type": "dataframe",
              "variable_name": "data",
              "summary": "{\n  \"name\": \"data\",\n  \"rows\": 714,\n  \"fields\": [\n    {\n      \"column\": \"Poster_Link\",\n      \"properties\": {\n        \"dtype\": \"string\",\n        \"num_unique_values\": 714,\n        \"samples\": [\n          \"https://m.media-amazon.com/images/M/MV5BMTcxOWYzNDYtYmM4YS00N2NkLTk0NTAtNjg1ODgwZjAxYzI3XkEyXkFqcGdeQXVyNTA4NzY1MzY@._V1_UX67_CR0,0,67,98_AL_.jpg\",\n          \"https://m.media-amazon.com/images/M/MV5BMTUwOGFiM2QtOWMxYS00MjU2LThmZDMtZDM2MWMzNzllNjdhXkEyXkFqcGdeQXVyMTMxODk2OTU@._V1_UX67_CR0,0,67,98_AL_.jpg\",\n          \"https://m.media-amazon.com/images/M/MV5BYTYxNGMyZTYtMjE3MS00MzNjLWFjNmYtMDk3N2FmM2JiM2M1XkEyXkFqcGdeQXVyNjY5NDU4NzI@._V1_UX67_CR0,0,67,98_AL_.jpg\"\n        ],\n        \"semantic_type\": \"\",\n        \"description\": \"\"\n      }\n    },\n    {\n      \"column\": \"Series_Title\",\n      \"properties\": {\n        \"dtype\": \"string\",\n        \"num_unique_values\": 714,\n        \"samples\": [\n          \"Casino\",\n          \"In Bruges\",\n          \"The Lion King\"\n        ],\n        \"semantic_type\": \"\",\n        \"description\": \"\"\n      }\n    },\n    {\n      \"column\": \"Released_Year\",\n      \"properties\": {\n        \"dtype\": \"category\",\n        \"num_unique_values\": 83,\n        \"samples\": [\n          \"1942\",\n          \"1994\",\n          \"1954\"\n        ],\n        \"semantic_type\": \"\",\n        \"description\": \"\"\n      }\n    },\n    {\n      \"column\": \"Certificate\",\n      \"properties\": {\n        \"dtype\": \"category\",\n        \"num_unique_values\": 12,\n        \"samples\": [\n          \"U/A\",\n          \"TV-PG\",\n          \"A\"\n        ],\n        \"semantic_type\": \"\",\n        \"description\": \"\"\n      }\n    },\n    {\n      \"column\": \"Runtime\",\n      \"properties\": {\n        \"dtype\": \"category\",\n        \"num_unique_values\": 118,\n        \"samples\": [\n          \"131 min\",\n          \"188 min\",\n          \"96 min\"\n        ],\n        \"semantic_type\": \"\",\n        \"description\": \"\"\n      }\n    },\n    {\n      \"column\": \"Genre\",\n      \"properties\": {\n        \"dtype\": \"category\",\n        \"num_unique_values\": 172,\n        \"samples\": [\n          \"Action, Biography, Drama\",\n          \"Adventure, Biography, Crime\",\n          \"Biography, Drama, Romance\"\n        ],\n        \"semantic_type\": \"\",\n        \"description\": \"\"\n      }\n    },\n    {\n      \"column\": \"IMDB_Rating\",\n      \"properties\": {\n        \"dtype\": \"number\",\n        \"std\": 0.29327778737010185,\n        \"min\": 7.6,\n        \"max\": 9.3,\n        \"num_unique_values\": 17,\n        \"samples\": [\n          9.3,\n          9.2,\n          8.7\n        ],\n        \"semantic_type\": \"\",\n        \"description\": \"\"\n      }\n    },\n    {\n      \"column\": \"Overview\",\n      \"properties\": {\n        \"dtype\": \"string\",\n        \"num_unique_values\": 714,\n        \"samples\": [\n          \"A tale of greed, deception, money, power, and murder occur between two best friends: a mafia enforcer and a casino executive compete against each other over a gambling empire, and over a fast-living and fast-loving socialite.\",\n          \"Guilt-stricken after a job gone wrong, hitman Ray and his partner await orders from their ruthless boss in Bruges, Belgium, the last place in the world Ray wants to be.\",\n          \"Lion prince Simba and his father are targeted by his bitter uncle, who wants to ascend the throne himself.\"\n        ],\n        \"semantic_type\": \"\",\n        \"description\": \"\"\n      }\n    },\n    {\n      \"column\": \"Meta_score\",\n      \"properties\": {\n        \"dtype\": \"number\",\n        \"std\": 12.401144375919342,\n        \"min\": 28.0,\n        \"max\": 100.0,\n        \"num_unique_values\": 63,\n        \"samples\": [\n          30.0,\n          28.0,\n          80.0\n        ],\n        \"semantic_type\": \"\",\n        \"description\": \"\"\n      }\n    },\n    {\n      \"column\": \"Director\",\n      \"properties\": {\n        \"dtype\": \"string\",\n        \"num_unique_values\": 402,\n        \"samples\": [\n          \"Ren\\u00e9 Laloux\",\n          \"Roland Joff\\u00e9\",\n          \"Michael Curtiz\"\n        ],\n        \"semantic_type\": \"\",\n        \"description\": \"\"\n      }\n    },\n    {\n      \"column\": \"Star1\",\n      \"properties\": {\n        \"dtype\": \"string\",\n        \"num_unique_values\": 472,\n        \"samples\": [\n          \"James Stewart\",\n          \"Keir Dullea\",\n          \"Arnold Schwarzenegger\"\n        ],\n        \"semantic_type\": \"\",\n        \"description\": \"\"\n      }\n    },\n    {\n      \"column\": \"Star2\",\n      \"properties\": {\n        \"dtype\": \"string\",\n        \"num_unique_values\": 599,\n        \"samples\": [\n          \"Sharon Stone\",\n          \"Jack Albertson\",\n          \"Pen\\u00e9lope Cruz\"\n        ],\n        \"semantic_type\": \"\",\n        \"description\": \"\"\n      }\n    },\n    {\n      \"column\": \"Star3\",\n      \"properties\": {\n        \"dtype\": \"string\",\n        \"num_unique_values\": 626,\n        \"samples\": [\n          \"Filip Berg\",\n          \"Nora-Jane Noone\",\n          \"Taraneh Alidoosti\"\n        ],\n        \"semantic_type\": \"\",\n        \"description\": \"\"\n      }\n    },\n    {\n      \"column\": \"Star4\",\n      \"properties\": {\n        \"dtype\": \"string\",\n        \"num_unique_values\": 671,\n        \"samples\": [\n          \"James Coburn\",\n          \"\\u00c1lvaro Guerrero\",\n          \"Elizabeth Banks\"\n        ],\n        \"semantic_type\": \"\",\n        \"description\": \"\"\n      }\n    },\n    {\n      \"column\": \"No_of_Votes\",\n      \"properties\": {\n        \"dtype\": \"number\",\n        \"std\": 353901,\n        \"min\": 25229,\n        \"max\": 2343110,\n        \"num_unique_values\": 714,\n        \"samples\": [\n          466276,\n          390334,\n          942045\n        ],\n        \"semantic_type\": \"\",\n        \"description\": \"\"\n      }\n    },\n    {\n      \"column\": \"Gross\",\n      \"properties\": {\n        \"dtype\": \"string\",\n        \"num_unique_values\": 710,\n        \"samples\": [\n          \"8,000,000\",\n          \"57,141,459\",\n          \"35,000,000\"\n        ],\n        \"semantic_type\": \"\",\n        \"description\": \"\"\n      }\n    }\n  ]\n}"
            }
          },
          "metadata": {},
          "execution_count": 14
        }
      ]
    },
    {
      "cell_type": "code",
      "source": [
        "data.info()"
      ],
      "metadata": {
        "id": "LlSRm5M4wsuG",
        "outputId": "d3bea8bc-aa0d-43a7-d4fc-862f538335aa",
        "colab": {
          "base_uri": "https://localhost:8080/"
        }
      },
      "execution_count": 15,
      "outputs": [
        {
          "output_type": "stream",
          "name": "stdout",
          "text": [
            "<class 'pandas.core.frame.DataFrame'>\n",
            "RangeIndex: 714 entries, 0 to 713\n",
            "Data columns (total 16 columns):\n",
            " #   Column         Non-Null Count  Dtype  \n",
            "---  ------         --------------  -----  \n",
            " 0   Poster_Link    714 non-null    object \n",
            " 1   Series_Title   714 non-null    object \n",
            " 2   Released_Year  714 non-null    object \n",
            " 3   Certificate    714 non-null    object \n",
            " 4   Runtime        714 non-null    object \n",
            " 5   Genre          714 non-null    object \n",
            " 6   IMDB_Rating    714 non-null    float64\n",
            " 7   Overview       714 non-null    object \n",
            " 8   Meta_score     714 non-null    float64\n",
            " 9   Director       714 non-null    object \n",
            " 10  Star1          714 non-null    object \n",
            " 11  Star2          714 non-null    object \n",
            " 12  Star3          714 non-null    object \n",
            " 13  Star4          714 non-null    object \n",
            " 14  No_of_Votes    714 non-null    int64  \n",
            " 15  Gross          714 non-null    object \n",
            "dtypes: float64(2), int64(1), object(13)\n",
            "memory usage: 89.4+ KB\n"
          ]
        }
      ]
    },
    {
      "cell_type": "code",
      "source": [
        "#looping and set the data into Document format\n",
        "documents = []\n",
        "#setup unique id\n",
        "uuids = [str(uuid4()) for _ in range(data.shape[0])]\n",
        "\n",
        "for i in range(data.shape[0]):\n",
        "  Title = data[\"Series_Title\"][i]\n",
        "  Released_Year = data[\"Released_Year\"][i]\n",
        "  Certificate = data[\"Certificate\"][i]\n",
        "  Duration = data[\"Runtime\"][i]\n",
        "  Genre = data[\"Genre\"][i]\n",
        "  IMDB_Rating = data[\"IMDB_Rating\"][i]\n",
        "  Overview = data[\"Overview\"][i]\n",
        "  Meta_Score  = data[\"Meta_score\"][i]\n",
        "  Director  = data[\"Director\"][i]\n",
        "  Star1 = data[\"Star1\"][i]\n",
        "  Star2 = data[\"Star2\"][i]\n",
        "  Star3 = data[\"Star3\"][i]\n",
        "  Star4 = data[\"Star4\"][i]\n",
        "  No_of_Votes = data[\"No_of_Votes\"][i]\n",
        "  Gross = data[\"Gross\"][i]\n",
        "  doc = Document(\n",
        "      page_content = (\n",
        "          f\"Title: {Title} ({Released_Year}). \"\n",
        "          f\"Genre: {Genre}. \"\n",
        "          f\"Director: {Director}. \"\n",
        "          f\"Starring: {Star1}, {Star2}, {Star3}, and {Star4}. \"\n",
        "          f\"This film has a score of {IMDB_Rating} and is {Duration} long.\"\n",
        "      ),\n",
        "      metadata = {\n",
        "          \"movie_id\": uuids[i], # Use the generated UUID as the unique ID\n",
        "          \"title\": str(Title),\n",
        "          \"released_year\": str(Released_Year),\n",
        "          \"certificate\": str(Certificate),\n",
        "          \"duration\": str(Duration),\n",
        "          \"genre\": str(Genre),\n",
        "          \"rating\": str(IMDB_Rating),\n",
        "          \"overview\": str(Overview),\n",
        "          \"meta_score\": str(Meta_Score),\n",
        "          \"director\": str(Director),\n",
        "          \"star1\": str(Star1),\n",
        "          \"star2\": str(Star2),\n",
        "          \"star3\": str(Star3),\n",
        "          \"star4\": str(Star4),\n",
        "          \"no_of_votes\": str(No_of_Votes),\n",
        "          \"gross\": str(Gross),\n",
        "      },\n",
        "  )\n",
        "  documents.append(doc)"
      ],
      "metadata": {
        "id": "-cfom7_844u1"
      },
      "execution_count": 16,
      "outputs": []
    },
    {
      "cell_type": "code",
      "source": [
        "#show a sample document\n",
        "documents[0]"
      ],
      "metadata": {
        "colab": {
          "base_uri": "https://localhost:8080/"
        },
        "id": "gmtk0Pbm6rDz",
        "outputId": "21da3423-41c5-4675-a0da-0fffe4910e87"
      },
      "execution_count": 17,
      "outputs": [
        {
          "output_type": "execute_result",
          "data": {
            "text/plain": [
              "Document(metadata={'movie_id': 'cfe184bf-cc22-483c-8579-9b760a1a6b25', 'title': 'The Shawshank Redemption', 'released_year': '1994', 'certificate': 'A', 'duration': '142 min', 'genre': 'Drama', 'rating': '9.3', 'overview': 'Two imprisoned men bond over a number of years, finding solace and eventual redemption through acts of common decency.', 'meta_score': '80.0', 'director': 'Frank Darabont', 'star1': 'Tim Robbins', 'star2': 'Morgan Freeman', 'star3': 'Bob Gunton', 'star4': 'William Sadler', 'no_of_votes': '2343110', 'gross': '28,341,469'}, page_content='Title: The Shawshank Redemption (1994). Genre: Drama. Director: Frank Darabont. Starring: Tim Robbins, Morgan Freeman, Bob Gunton, and William Sadler. This film has a score of 9.3 and is 142 min long.')"
            ]
          },
          "metadata": {},
          "execution_count": 17
        }
      ]
    },
    {
      "cell_type": "markdown",
      "source": [
        "# Vector Database Process"
      ],
      "metadata": {
        "id": "yL0OvTWToYzr"
      }
    },
    {
      "cell_type": "code",
      "source": [
        "#save document to qdrant\n",
        "qdrant = QdrantVectorStore.from_documents(\n",
        "    documents,\n",
        "    embeddings,\n",
        "    url=url_qdrant,\n",
        "    prefer_grpc=True,\n",
        "    api_key=api_key_qdrant,\n",
        "    collection_name=\"product_documents\",\n",
        ")"
      ],
      "metadata": {
        "id": "q_7giBeV8Tpg"
      },
      "execution_count": 18,
      "outputs": []
    },
    {
      "cell_type": "code",
      "source": [
        "# # for deleting collection\n",
        "\n",
        "# client = QdrantClient(\n",
        "#   url= url_qdrant,\n",
        "#   api_key = api_key_qdrant\n",
        "# )\n",
        "# client.delete_collection(collection_name=\"product_documents\")"
      ],
      "metadata": {
        "id": "nZqubPXa-mEA"
      },
      "execution_count": null,
      "outputs": []
    },
    {
      "cell_type": "code",
      "source": [
        "#setup qdrant client\n",
        "client = QdrantClient(\n",
        "  url= url_qdrant,\n",
        "  api_key = api_key_qdrant\n",
        ")\n",
        "#get all collection in your qdrant vector database\n",
        "collections_response = client.get_collections()\n",
        "print(\"Collections:\", collections_response.collections)"
      ],
      "metadata": {
        "colab": {
          "base_uri": "https://localhost:8080/"
        },
        "id": "oQnXZpooMX5a",
        "outputId": "470d58b4-5806-4c4d-dc7d-abb9631e2e6a"
      },
      "execution_count": 19,
      "outputs": [
        {
          "output_type": "stream",
          "name": "stdout",
          "text": [
            "Collections: [CollectionDescription(name='product_documents')]\n"
          ]
        }
      ]
    },
    {
      "cell_type": "markdown",
      "source": [
        "# Query in VectorDB"
      ],
      "metadata": {
        "id": "ZOv9HVGPomO0"
      }
    },
    {
      "cell_type": "code",
      "source": [
        "#qdrant vectorstore with specific collection name\n",
        "qdrant = QdrantVectorStore.from_existing_collection(\n",
        "    embedding=embeddings,\n",
        "    collection_name=\"product_documents\",\n",
        "    url=url_qdrant,\n",
        "    api_key=api_key_qdrant\n",
        ")"
      ],
      "metadata": {
        "id": "kma3PYCP0ylL"
      },
      "execution_count": 20,
      "outputs": []
    },
    {
      "cell_type": "code",
      "source": [
        "#retrieve data from qdrant\n",
        "results = qdrant.similarity_search(\n",
        "    \"commedy movie\",\n",
        "    k=2\n",
        ")\n",
        "results"
      ],
      "metadata": {
        "colab": {
          "base_uri": "https://localhost:8080/"
        },
        "id": "1fph4ny21ptj",
        "outputId": "aa47a2fc-0cf8-4c88-c5fe-2960f05ea580"
      },
      "execution_count": 22,
      "outputs": [
        {
          "output_type": "execute_result",
          "data": {
            "text/plain": [
              "[Document(metadata={'gross': '2,500,000', 'certificate': 'U', 'title': 'The King of Comedy', 'released_year': '1982', 'star1': 'Robert De Niro', 'director': 'Martin Scorsese', 'no_of_votes': '88511', 'duration': '109 min', 'overview': 'Rupert Pupkin is a passionate yet unsuccessful comic who craves nothing more than to be in the spotlight and to achieve this, he stalks and kidnaps his idol to take the spotlight for himself.', 'star3': 'Diahnne Abbott', 'star2': 'Jerry Lewis', 'rating': '7.8', 'star4': 'Sandra Bernhard', 'meta_score': '73.0', 'movie_id': '6b325490-ffc4-4a21-9bb8-9a30544ccf2b', 'genre': 'Comedy, Crime, Drama', '_id': '86d41070-366c-40fc-a9e0-81646ee9b5dd', '_collection_name': 'product_documents'}, page_content='Title: The King of Comedy (1982). Genre: Comedy, Crime, Drama. Director: Martin Scorsese. Starring: Robert De Niro, Jerry Lewis, Diahnne Abbott, and Sandra Bernhard. This film has a score of 7.8 and is 109 min long.'),\n",
              " Document(metadata={'star3': 'Diahnne Abbott', 'star1': 'Robert De Niro', 'movie_id': '33d008ac-fe5a-4c8b-abe7-489547f627a6', 'certificate': 'U', 'duration': '109 min', 'meta_score': '73.0', 'released_year': '1982', 'star2': 'Jerry Lewis', 'genre': 'Comedy, Crime, Drama', 'title': 'The King of Comedy', 'director': 'Martin Scorsese', 'star4': 'Sandra Bernhard', '_id': '1b39165a-c804-43f9-8daf-096b2d9137de', '_collection_name': 'product_documents'}, page_content='Title: The King of Comedy (1982). Genre: Comedy, Crime, Drama. Director: Martin Scorsese. Starring: Robert De Niro, Jerry Lewis, Diahnne Abbott, and Sandra Bernhard. This film has a score of 73.0 and is 109 min long.')]"
            ]
          },
          "metadata": {},
          "execution_count": 22
        }
      ]
    },
    {
      "cell_type": "code",
      "source": [
        "#parsing page content and metadata from retrieved data\n",
        "for res in results:\n",
        "    print(f\"Result Page Content:  {res.page_content}\\nResult Metadata: [{res.metadata}]\")\n",
        "    print(\"-----\"*20)"
      ],
      "metadata": {
        "colab": {
          "base_uri": "https://localhost:8080/"
        },
        "id": "SyfGwC1V2Ezm",
        "outputId": "a5b55a1d-14b7-4cb4-c975-ae72977f60f9"
      },
      "execution_count": 23,
      "outputs": [
        {
          "output_type": "stream",
          "name": "stdout",
          "text": [
            "Result Page Content:  Title: The King of Comedy (1982). Genre: Comedy, Crime, Drama. Director: Martin Scorsese. Starring: Robert De Niro, Jerry Lewis, Diahnne Abbott, and Sandra Bernhard. This film has a score of 7.8 and is 109 min long.\n",
            "Result Metadata: [{'gross': '2,500,000', 'certificate': 'U', 'title': 'The King of Comedy', 'released_year': '1982', 'star1': 'Robert De Niro', 'director': 'Martin Scorsese', 'no_of_votes': '88511', 'duration': '109 min', 'overview': 'Rupert Pupkin is a passionate yet unsuccessful comic who craves nothing more than to be in the spotlight and to achieve this, he stalks and kidnaps his idol to take the spotlight for himself.', 'star3': 'Diahnne Abbott', 'star2': 'Jerry Lewis', 'rating': '7.8', 'star4': 'Sandra Bernhard', 'meta_score': '73.0', 'movie_id': '6b325490-ffc4-4a21-9bb8-9a30544ccf2b', 'genre': 'Comedy, Crime, Drama', '_id': '86d41070-366c-40fc-a9e0-81646ee9b5dd', '_collection_name': 'product_documents'}]\n",
            "----------------------------------------------------------------------------------------------------\n",
            "Result Page Content:  Title: The King of Comedy (1982). Genre: Comedy, Crime, Drama. Director: Martin Scorsese. Starring: Robert De Niro, Jerry Lewis, Diahnne Abbott, and Sandra Bernhard. This film has a score of 73.0 and is 109 min long.\n",
            "Result Metadata: [{'star3': 'Diahnne Abbott', 'star1': 'Robert De Niro', 'movie_id': '33d008ac-fe5a-4c8b-abe7-489547f627a6', 'certificate': 'U', 'duration': '109 min', 'meta_score': '73.0', 'released_year': '1982', 'star2': 'Jerry Lewis', 'genre': 'Comedy, Crime, Drama', 'title': 'The King of Comedy', 'director': 'Martin Scorsese', 'star4': 'Sandra Bernhard', '_id': '1b39165a-c804-43f9-8daf-096b2d9137de', '_collection_name': 'product_documents'}]\n",
            "----------------------------------------------------------------------------------------------------\n"
          ]
        }
      ]
    },
    {
      "cell_type": "code",
      "source": [
        "#try to retrieve data from vector database with similarity_search_with_score\n",
        "#this method will give you additional information about similarity score\n",
        "results = qdrant.similarity_search_with_score(\n",
        "    \"action movie\",\n",
        "    k=2\n",
        ")\n",
        "results"
      ],
      "metadata": {
        "colab": {
          "base_uri": "https://localhost:8080/"
        },
        "id": "9PyFby_B2FNP",
        "outputId": "bd3adb07-93e8-4a22-c628-b3cd50a8e60b"
      },
      "execution_count": 24,
      "outputs": [
        {
          "output_type": "execute_result",
          "data": {
            "text/plain": [
              "[(Document(metadata={'no_of_votes': '329592', 'star4': 'Radha Mitchell', 'duration': '146 min', 'movie_id': '18a88be7-5817-48ba-8f20-ce1d264a4d8f', 'genre': 'Action, Crime, Drama', 'star1': 'Denzel Washington', 'director': 'Tony Scott', 'certificate': 'UA', 'meta_score': '47.0', 'overview': 'In Mexico City, a former CIA operative swears vengeance on those who committed an unspeakable act against the family he was hired to protect.', 'star2': 'Christopher Walken', 'gross': '77,911,774', 'title': 'Man on Fire', 'star3': 'Dakota Fanning', 'rating': '7.7', 'released_year': '2004', '_id': 'b6514c38-9b37-42a2-b30a-5ab5424ef6d4', '_collection_name': 'product_documents'}, page_content='Title: Man on Fire (2004). Genre: Action, Crime, Drama. Director: Tony Scott. Starring: Denzel Washington, Christopher Walken, Dakota Fanning, and Radha Mitchell. This film has a score of 7.7 and is 146 min long.'),\n",
              "  0.43246907),\n",
              " (Document(metadata={'star4': 'Radha Mitchell', 'duration': '146 min', 'star1': 'Denzel Washington', 'star3': 'Dakota Fanning', 'movie_id': '38daacc7-51d2-4a6e-b7ed-c53b8aab807b', 'meta_score': '47.0', 'star2': 'Christopher Walken', 'director': 'Tony Scott', 'released_year': '2004', 'genre': 'Action, Crime, Drama', 'certificate': 'UA', 'title': 'Man on Fire', '_id': '11c0774c-2289-42b5-bfa6-905fcb9b4e7d', '_collection_name': 'product_documents'}, page_content='Title: Man on Fire (2004). Genre: Action, Crime, Drama. Director: Tony Scott. Starring: Denzel Washington, Christopher Walken, Dakota Fanning, and Radha Mitchell. This film has a score of 47.0 and is 146 min long.'),\n",
              "  0.42716667)]"
            ]
          },
          "metadata": {},
          "execution_count": 24
        }
      ]
    },
    {
      "cell_type": "code",
      "source": [
        "#parsing page content, metadata, and similarity score for each retrieved document\n",
        "for res,score in results:\n",
        "    print(f\"Score: {score}\\nResult Page Content:  {res.page_content}\\nResult Metadata: [{res.metadata}]\")\n",
        "    print(\"-----\"*20)"
      ],
      "metadata": {
        "colab": {
          "base_uri": "https://localhost:8080/"
        },
        "id": "eRzks_PM2Ja7",
        "outputId": "63f4f43f-550a-484c-f3a2-34a93bc10ad0"
      },
      "execution_count": 25,
      "outputs": [
        {
          "output_type": "stream",
          "name": "stdout",
          "text": [
            "Score: 0.43246907\n",
            "Result Page Content:  Title: Man on Fire (2004). Genre: Action, Crime, Drama. Director: Tony Scott. Starring: Denzel Washington, Christopher Walken, Dakota Fanning, and Radha Mitchell. This film has a score of 7.7 and is 146 min long.\n",
            "Result Metadata: [{'no_of_votes': '329592', 'star4': 'Radha Mitchell', 'duration': '146 min', 'movie_id': '18a88be7-5817-48ba-8f20-ce1d264a4d8f', 'genre': 'Action, Crime, Drama', 'star1': 'Denzel Washington', 'director': 'Tony Scott', 'certificate': 'UA', 'meta_score': '47.0', 'overview': 'In Mexico City, a former CIA operative swears vengeance on those who committed an unspeakable act against the family he was hired to protect.', 'star2': 'Christopher Walken', 'gross': '77,911,774', 'title': 'Man on Fire', 'star3': 'Dakota Fanning', 'rating': '7.7', 'released_year': '2004', '_id': 'b6514c38-9b37-42a2-b30a-5ab5424ef6d4', '_collection_name': 'product_documents'}]\n",
            "----------------------------------------------------------------------------------------------------\n",
            "Score: 0.42716667\n",
            "Result Page Content:  Title: Man on Fire (2004). Genre: Action, Crime, Drama. Director: Tony Scott. Starring: Denzel Washington, Christopher Walken, Dakota Fanning, and Radha Mitchell. This film has a score of 47.0 and is 146 min long.\n",
            "Result Metadata: [{'star4': 'Radha Mitchell', 'duration': '146 min', 'star1': 'Denzel Washington', 'star3': 'Dakota Fanning', 'movie_id': '38daacc7-51d2-4a6e-b7ed-c53b8aab807b', 'meta_score': '47.0', 'star2': 'Christopher Walken', 'director': 'Tony Scott', 'released_year': '2004', 'genre': 'Action, Crime, Drama', 'certificate': 'UA', 'title': 'Man on Fire', '_id': '11c0774c-2289-42b5-bfa6-905fcb9b4e7d', '_collection_name': 'product_documents'}]\n",
            "----------------------------------------------------------------------------------------------------\n"
          ]
        }
      ]
    },
    {
      "cell_type": "code",
      "source": [
        "#retrieve data with non-default search_type.\n",
        "#basically, default search_type is similarity_score_threshold, the code below shows how to retrieve with another search_type\n",
        "retriever = qdrant.as_retriever(search_type=\"mmr\", search_kwargs={\"k\": 1})\n",
        "retriever.invoke(\"action movie\")"
      ],
      "metadata": {
        "colab": {
          "base_uri": "https://localhost:8080/"
        },
        "id": "GuBkE_Sn2LvP",
        "outputId": "77f3e989-9e44-47ca-c840-bef4c730e117"
      },
      "execution_count": 26,
      "outputs": [
        {
          "output_type": "execute_result",
          "data": {
            "text/plain": [
              "[Document(metadata={'no_of_votes': '329592', 'star4': 'Radha Mitchell', 'duration': '146 min', 'movie_id': '18a88be7-5817-48ba-8f20-ce1d264a4d8f', 'genre': 'Action, Crime, Drama', 'star1': 'Denzel Washington', 'director': 'Tony Scott', 'certificate': 'UA', 'meta_score': '47.0', 'overview': 'In Mexico City, a former CIA operative swears vengeance on those who committed an unspeakable act against the family he was hired to protect.', 'star2': 'Christopher Walken', 'gross': '77,911,774', 'title': 'Man on Fire', 'star3': 'Dakota Fanning', 'rating': '7.7', 'released_year': '2004', '_id': 'b6514c38-9b37-42a2-b30a-5ab5424ef6d4', '_collection_name': 'product_documents'}, page_content='Title: Man on Fire (2004). Genre: Action, Crime, Drama. Director: Tony Scott. Starring: Denzel Washington, Christopher Walken, Dakota Fanning, and Radha Mitchell. This film has a score of 7.7 and is 146 min long.')]"
            ]
          },
          "metadata": {},
          "execution_count": 26
        }
      ]
    }
  ]
}